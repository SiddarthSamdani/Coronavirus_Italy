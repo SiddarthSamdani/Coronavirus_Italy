{
 "cells": [
  {
   "cell_type": "code",
   "execution_count": 1,
   "metadata": {},
   "outputs": [],
   "source": [
    "import pandas as pd\n",
    "import numpy as np\n",
    "import seaborn as sns\n",
    "import matplotlib.pyplot as plt\n"
   ]
  },
  {
   "cell_type": "code",
   "execution_count": 2,
   "metadata": {},
   "outputs": [
    {
     "data": {
      "text/html": [
       "<div>\n",
       "<style scoped>\n",
       "    .dataframe tbody tr th:only-of-type {\n",
       "        vertical-align: middle;\n",
       "    }\n",
       "\n",
       "    .dataframe tbody tr th {\n",
       "        vertical-align: top;\n",
       "    }\n",
       "\n",
       "    .dataframe thead th {\n",
       "        text-align: right;\n",
       "    }\n",
       "</style>\n",
       "<table border=\"1\" class=\"dataframe\">\n",
       "  <thead>\n",
       "    <tr style=\"text-align: right;\">\n",
       "      <th></th>\n",
       "      <th>SNo</th>\n",
       "      <th>Date</th>\n",
       "      <th>Country</th>\n",
       "      <th>RegionCode</th>\n",
       "      <th>RegionName</th>\n",
       "      <th>ProvinceCode</th>\n",
       "      <th>ProvinceName</th>\n",
       "      <th>ProvinceAbbreviation</th>\n",
       "      <th>Latitude</th>\n",
       "      <th>Longitude</th>\n",
       "      <th>TotalPositiveCases</th>\n",
       "    </tr>\n",
       "  </thead>\n",
       "  <tbody>\n",
       "    <tr>\n",
       "      <th>0</th>\n",
       "      <td>0</td>\n",
       "      <td>2020-02-24T18:00:00</td>\n",
       "      <td>ITA</td>\n",
       "      <td>13</td>\n",
       "      <td>Abruzzo</td>\n",
       "      <td>69</td>\n",
       "      <td>Chieti</td>\n",
       "      <td>CH</td>\n",
       "      <td>42.351032</td>\n",
       "      <td>14.167546</td>\n",
       "      <td>0</td>\n",
       "    </tr>\n",
       "    <tr>\n",
       "      <th>1</th>\n",
       "      <td>1</td>\n",
       "      <td>2020-02-24T18:00:00</td>\n",
       "      <td>ITA</td>\n",
       "      <td>13</td>\n",
       "      <td>Abruzzo</td>\n",
       "      <td>66</td>\n",
       "      <td>L'Aquila</td>\n",
       "      <td>AQ</td>\n",
       "      <td>42.351222</td>\n",
       "      <td>13.398438</td>\n",
       "      <td>0</td>\n",
       "    </tr>\n",
       "    <tr>\n",
       "      <th>2</th>\n",
       "      <td>2</td>\n",
       "      <td>2020-02-24T18:00:00</td>\n",
       "      <td>ITA</td>\n",
       "      <td>13</td>\n",
       "      <td>Abruzzo</td>\n",
       "      <td>68</td>\n",
       "      <td>Pescara</td>\n",
       "      <td>PE</td>\n",
       "      <td>42.464584</td>\n",
       "      <td>14.213648</td>\n",
       "      <td>0</td>\n",
       "    </tr>\n",
       "    <tr>\n",
       "      <th>3</th>\n",
       "      <td>3</td>\n",
       "      <td>2020-02-24T18:00:00</td>\n",
       "      <td>ITA</td>\n",
       "      <td>13</td>\n",
       "      <td>Abruzzo</td>\n",
       "      <td>67</td>\n",
       "      <td>Teramo</td>\n",
       "      <td>TE</td>\n",
       "      <td>42.658918</td>\n",
       "      <td>13.704400</td>\n",
       "      <td>0</td>\n",
       "    </tr>\n",
       "    <tr>\n",
       "      <th>4</th>\n",
       "      <td>4</td>\n",
       "      <td>2020-02-24T18:00:00</td>\n",
       "      <td>ITA</td>\n",
       "      <td>13</td>\n",
       "      <td>Abruzzo</td>\n",
       "      <td>979</td>\n",
       "      <td>In fase di definizione/aggiornamento</td>\n",
       "      <td>NaN</td>\n",
       "      <td>0.000000</td>\n",
       "      <td>0.000000</td>\n",
       "      <td>0</td>\n",
       "    </tr>\n",
       "  </tbody>\n",
       "</table>\n",
       "</div>"
      ],
      "text/plain": [
       "   SNo                 Date Country  RegionCode RegionName  ProvinceCode  \\\n",
       "0    0  2020-02-24T18:00:00     ITA          13    Abruzzo            69   \n",
       "1    1  2020-02-24T18:00:00     ITA          13    Abruzzo            66   \n",
       "2    2  2020-02-24T18:00:00     ITA          13    Abruzzo            68   \n",
       "3    3  2020-02-24T18:00:00     ITA          13    Abruzzo            67   \n",
       "4    4  2020-02-24T18:00:00     ITA          13    Abruzzo           979   \n",
       "\n",
       "                           ProvinceName ProvinceAbbreviation   Latitude  \\\n",
       "0                                Chieti                   CH  42.351032   \n",
       "1                              L'Aquila                   AQ  42.351222   \n",
       "2                               Pescara                   PE  42.464584   \n",
       "3                                Teramo                   TE  42.658918   \n",
       "4  In fase di definizione/aggiornamento                  NaN   0.000000   \n",
       "\n",
       "   Longitude  TotalPositiveCases  \n",
       "0  14.167546                   0  \n",
       "1  13.398438                   0  \n",
       "2  14.213648                   0  \n",
       "3  13.704400                   0  \n",
       "4   0.000000                   0  "
      ]
     },
     "execution_count": 2,
     "metadata": {},
     "output_type": "execute_result"
    }
   ],
   "source": [
    "data = pd.read_csv(\"covid19_italy_province.csv\")\n",
    "data.head()"
   ]
  },
  {
   "cell_type": "code",
   "execution_count": 3,
   "metadata": {},
   "outputs": [
    {
     "data": {
      "text/plain": [
       "Index(['SNo', 'Date', 'Country', 'RegionCode', 'RegionName', 'ProvinceCode',\n",
       "       'ProvinceName', 'ProvinceAbbreviation', 'Latitude', 'Longitude',\n",
       "       'TotalPositiveCases'],\n",
       "      dtype='object')"
      ]
     },
     "execution_count": 3,
     "metadata": {},
     "output_type": "execute_result"
    }
   ],
   "source": [
    "data.columns"
   ]
  },
  {
   "cell_type": "code",
   "execution_count": 4,
   "metadata": {},
   "outputs": [
    {
     "data": {
      "text/html": [
       "<div>\n",
       "<style scoped>\n",
       "    .dataframe tbody tr th:only-of-type {\n",
       "        vertical-align: middle;\n",
       "    }\n",
       "\n",
       "    .dataframe tbody tr th {\n",
       "        vertical-align: top;\n",
       "    }\n",
       "\n",
       "    .dataframe thead th {\n",
       "        text-align: right;\n",
       "    }\n",
       "</style>\n",
       "<table border=\"1\" class=\"dataframe\">\n",
       "  <thead>\n",
       "    <tr style=\"text-align: right;\">\n",
       "      <th></th>\n",
       "      <th>SNo</th>\n",
       "      <th>Date</th>\n",
       "      <th>Country</th>\n",
       "      <th>RegionCode</th>\n",
       "      <th>RegionName</th>\n",
       "      <th>ProvinceCode</th>\n",
       "      <th>ProvinceName</th>\n",
       "      <th>ProvinceAbbreviation</th>\n",
       "      <th>Latitude</th>\n",
       "      <th>Longitude</th>\n",
       "      <th>TotalPositiveCases</th>\n",
       "    </tr>\n",
       "  </thead>\n",
       "  <tbody>\n",
       "    <tr>\n",
       "      <th>5115</th>\n",
       "      <td>5115</td>\n",
       "      <td>2020-04-03T17:00:00</td>\n",
       "      <td>ITA</td>\n",
       "      <td>5</td>\n",
       "      <td>Veneto</td>\n",
       "      <td>26</td>\n",
       "      <td>Treviso</td>\n",
       "      <td>TV</td>\n",
       "      <td>45.667546</td>\n",
       "      <td>12.245074</td>\n",
       "      <td>1657</td>\n",
       "    </tr>\n",
       "    <tr>\n",
       "      <th>5116</th>\n",
       "      <td>5116</td>\n",
       "      <td>2020-04-03T17:00:00</td>\n",
       "      <td>ITA</td>\n",
       "      <td>5</td>\n",
       "      <td>Veneto</td>\n",
       "      <td>27</td>\n",
       "      <td>Venezia</td>\n",
       "      <td>VE</td>\n",
       "      <td>45.434905</td>\n",
       "      <td>12.338452</td>\n",
       "      <td>1321</td>\n",
       "    </tr>\n",
       "    <tr>\n",
       "      <th>5117</th>\n",
       "      <td>5117</td>\n",
       "      <td>2020-04-03T17:00:00</td>\n",
       "      <td>ITA</td>\n",
       "      <td>5</td>\n",
       "      <td>Veneto</td>\n",
       "      <td>23</td>\n",
       "      <td>Verona</td>\n",
       "      <td>VR</td>\n",
       "      <td>45.438390</td>\n",
       "      <td>10.993527</td>\n",
       "      <td>2488</td>\n",
       "    </tr>\n",
       "    <tr>\n",
       "      <th>5118</th>\n",
       "      <td>5118</td>\n",
       "      <td>2020-04-03T17:00:00</td>\n",
       "      <td>ITA</td>\n",
       "      <td>5</td>\n",
       "      <td>Veneto</td>\n",
       "      <td>24</td>\n",
       "      <td>Vicenza</td>\n",
       "      <td>VI</td>\n",
       "      <td>45.547497</td>\n",
       "      <td>11.545971</td>\n",
       "      <td>1514</td>\n",
       "    </tr>\n",
       "    <tr>\n",
       "      <th>5119</th>\n",
       "      <td>5119</td>\n",
       "      <td>2020-04-03T17:00:00</td>\n",
       "      <td>ITA</td>\n",
       "      <td>5</td>\n",
       "      <td>Veneto</td>\n",
       "      <td>999</td>\n",
       "      <td>In fase di definizione/aggiornamento</td>\n",
       "      <td>NaN</td>\n",
       "      <td>0.000000</td>\n",
       "      <td>0.000000</td>\n",
       "      <td>252</td>\n",
       "    </tr>\n",
       "  </tbody>\n",
       "</table>\n",
       "</div>"
      ],
      "text/plain": [
       "       SNo                 Date Country  RegionCode RegionName  ProvinceCode  \\\n",
       "5115  5115  2020-04-03T17:00:00     ITA           5     Veneto            26   \n",
       "5116  5116  2020-04-03T17:00:00     ITA           5     Veneto            27   \n",
       "5117  5117  2020-04-03T17:00:00     ITA           5     Veneto            23   \n",
       "5118  5118  2020-04-03T17:00:00     ITA           5     Veneto            24   \n",
       "5119  5119  2020-04-03T17:00:00     ITA           5     Veneto           999   \n",
       "\n",
       "                              ProvinceName ProvinceAbbreviation   Latitude  \\\n",
       "5115                               Treviso                   TV  45.667546   \n",
       "5116                               Venezia                   VE  45.434905   \n",
       "5117                                Verona                   VR  45.438390   \n",
       "5118                               Vicenza                   VI  45.547497   \n",
       "5119  In fase di definizione/aggiornamento                  NaN   0.000000   \n",
       "\n",
       "      Longitude  TotalPositiveCases  \n",
       "5115  12.245074                1657  \n",
       "5116  12.338452                1321  \n",
       "5117  10.993527                2488  \n",
       "5118  11.545971                1514  \n",
       "5119   0.000000                 252  "
      ]
     },
     "execution_count": 4,
     "metadata": {},
     "output_type": "execute_result"
    }
   ],
   "source": [
    "data.tail()"
   ]
  },
  {
   "cell_type": "code",
   "execution_count": 5,
   "metadata": {},
   "outputs": [
    {
     "data": {
      "text/html": [
       "<div>\n",
       "<style scoped>\n",
       "    .dataframe tbody tr th:only-of-type {\n",
       "        vertical-align: middle;\n",
       "    }\n",
       "\n",
       "    .dataframe tbody tr th {\n",
       "        vertical-align: top;\n",
       "    }\n",
       "\n",
       "    .dataframe thead th {\n",
       "        text-align: right;\n",
       "    }\n",
       "</style>\n",
       "<table border=\"1\" class=\"dataframe\">\n",
       "  <thead>\n",
       "    <tr style=\"text-align: right;\">\n",
       "      <th></th>\n",
       "      <th>SNo</th>\n",
       "      <th>RegionCode</th>\n",
       "      <th>ProvinceCode</th>\n",
       "      <th>Latitude</th>\n",
       "      <th>Longitude</th>\n",
       "      <th>TotalPositiveCases</th>\n",
       "    </tr>\n",
       "  </thead>\n",
       "  <tbody>\n",
       "    <tr>\n",
       "      <th>count</th>\n",
       "      <td>5120.00000</td>\n",
       "      <td>5120.000000</td>\n",
       "      <td>5120.000000</td>\n",
       "      <td>5120.000000</td>\n",
       "      <td>5120.000000</td>\n",
       "      <td>5120.000000</td>\n",
       "    </tr>\n",
       "    <tr>\n",
       "      <th>mean</th>\n",
       "      <td>2559.50000</td>\n",
       "      <td>10.140625</td>\n",
       "      <td>207.523438</td>\n",
       "      <td>35.868843</td>\n",
       "      <td>10.112000</td>\n",
       "      <td>304.443945</td>\n",
       "    </tr>\n",
       "    <tr>\n",
       "      <th>std</th>\n",
       "      <td>1478.16102</td>\n",
       "      <td>5.914986</td>\n",
       "      <td>347.416957</td>\n",
       "      <td>16.073094</td>\n",
       "      <td>5.098090</td>\n",
       "      <td>857.797180</td>\n",
       "    </tr>\n",
       "    <tr>\n",
       "      <th>min</th>\n",
       "      <td>0.00000</td>\n",
       "      <td>1.000000</td>\n",
       "      <td>1.000000</td>\n",
       "      <td>0.000000</td>\n",
       "      <td>0.000000</td>\n",
       "      <td>0.000000</td>\n",
       "    </tr>\n",
       "    <tr>\n",
       "      <th>25%</th>\n",
       "      <td>1279.75000</td>\n",
       "      <td>5.000000</td>\n",
       "      <td>32.750000</td>\n",
       "      <td>38.848542</td>\n",
       "      <td>8.583304</td>\n",
       "      <td>0.000000</td>\n",
       "    </tr>\n",
       "    <tr>\n",
       "      <th>50%</th>\n",
       "      <td>2559.50000</td>\n",
       "      <td>9.000000</td>\n",
       "      <td>64.500000</td>\n",
       "      <td>42.609815</td>\n",
       "      <td>11.188560</td>\n",
       "      <td>29.000000</td>\n",
       "    </tr>\n",
       "    <tr>\n",
       "      <th>75%</th>\n",
       "      <td>3839.25000</td>\n",
       "      <td>15.250000</td>\n",
       "      <td>96.250000</td>\n",
       "      <td>44.947714</td>\n",
       "      <td>13.593962</td>\n",
       "      <td>226.000000</td>\n",
       "    </tr>\n",
       "    <tr>\n",
       "      <th>max</th>\n",
       "      <td>5119.00000</td>\n",
       "      <td>20.000000</td>\n",
       "      <td>999.000000</td>\n",
       "      <td>46.499335</td>\n",
       "      <td>18.171897</td>\n",
       "      <td>10391.000000</td>\n",
       "    </tr>\n",
       "  </tbody>\n",
       "</table>\n",
       "</div>"
      ],
      "text/plain": [
       "              SNo   RegionCode  ProvinceCode     Latitude    Longitude  \\\n",
       "count  5120.00000  5120.000000   5120.000000  5120.000000  5120.000000   \n",
       "mean   2559.50000    10.140625    207.523438    35.868843    10.112000   \n",
       "std    1478.16102     5.914986    347.416957    16.073094     5.098090   \n",
       "min       0.00000     1.000000      1.000000     0.000000     0.000000   \n",
       "25%    1279.75000     5.000000     32.750000    38.848542     8.583304   \n",
       "50%    2559.50000     9.000000     64.500000    42.609815    11.188560   \n",
       "75%    3839.25000    15.250000     96.250000    44.947714    13.593962   \n",
       "max    5119.00000    20.000000    999.000000    46.499335    18.171897   \n",
       "\n",
       "       TotalPositiveCases  \n",
       "count         5120.000000  \n",
       "mean           304.443945  \n",
       "std            857.797180  \n",
       "min              0.000000  \n",
       "25%              0.000000  \n",
       "50%             29.000000  \n",
       "75%            226.000000  \n",
       "max          10391.000000  "
      ]
     },
     "execution_count": 5,
     "metadata": {},
     "output_type": "execute_result"
    }
   ],
   "source": [
    "data.describe()"
   ]
  },
  {
   "cell_type": "code",
   "execution_count": 7,
   "metadata": {},
   "outputs": [
    {
     "data": {
      "text/plain": [
       "SNo                       0\n",
       "Date                      0\n",
       "Country                   0\n",
       "RegionCode                0\n",
       "RegionName                0\n",
       "ProvinceCode              0\n",
       "ProvinceName              0\n",
       "ProvinceAbbreviation    880\n",
       "Latitude                  0\n",
       "Longitude                 0\n",
       "TotalPositiveCases        0\n",
       "dtype: int64"
      ]
     },
     "execution_count": 7,
     "metadata": {},
     "output_type": "execute_result"
    }
   ],
   "source": [
    "data.isnull().sum()"
   ]
  },
  {
   "cell_type": "markdown",
   "metadata": {},
   "source": [
    "# Relating the variables with scatter-plot"
   ]
  },
  {
   "cell_type": "code",
   "execution_count": 8,
   "metadata": {},
   "outputs": [
    {
     "data": {
      "text/plain": [
       "Index(['SNo', 'Date', 'Country', 'RegionCode', 'RegionName', 'ProvinceCode',\n",
       "       'ProvinceName', 'ProvinceAbbreviation', 'Latitude', 'Longitude',\n",
       "       'TotalPositiveCases'],\n",
       "      dtype='object')"
      ]
     },
     "execution_count": 8,
     "metadata": {},
     "output_type": "execute_result"
    }
   ],
   "source": [
    "data.columns"
   ]
  },
  {
   "cell_type": "code",
   "execution_count": 10,
   "metadata": {},
   "outputs": [
    {
     "data": {
      "text/plain": [
       "<seaborn.axisgrid.FacetGrid at 0x1e5b89df908>"
      ]
     },
     "execution_count": 10,
     "metadata": {},
     "output_type": "execute_result"
    },
    {
     "data": {
      "image/png": "[encoded data removed]",
      "text/plain": [
       "<Figure size 360x360 with 1 Axes>"
      ]
     },
     "metadata": {
      "needs_background": "light"
     },
     "output_type": "display_data"
    }
   ],
   "source": [
    "sns.relplot(x=\"Country\", y=\"TotalPositiveCases\", data=data)"
   ]
  },
  {
   "cell_type": "code",
   "execution_count": 15,
   "metadata": {},
   "outputs": [
    {
     "data": {
      "text/plain": [
       "<seaborn.axisgrid.FacetGrid at 0x1e5b8f0bd68>"
      ]
     },
     "execution_count": 15,
     "metadata": {},
     "output_type": "execute_result"
    },
    {
     "data": {
      "image/png": "[encoded data removed]",
      "text/plain": [
       "<Figure size 360x360 with 1 Axes>"
      ]
     },
     "metadata": {
      "needs_background": "light"
     },
     "output_type": "display_data"
    }
   ],
   "source": [
    "sns.relplot(x=\"ProvinceName\", y=\"TotalPositiveCases\", data=data)"
   ]
  },
  {
   "cell_type": "code",
   "execution_count": null,
   "metadata": {},
   "outputs": [],
   "source": []
  }
 ],
 "metadata": {
  "kernelspec": {
   "display_name": "Python 3",
   "language": "python",
   "name": "python3"
  },
  "language_info": {
   "codemirror_mode": {
    "name": "ipython",
    "version": 3
   },
   "file_extension": ".py",
   "mimetype": "text/x-python",
   "name": "python",
   "nbconvert_exporter": "python",
   "pygments_lexer": "ipython3",
   "version": "3.7.3"
  }
 },
 "nbformat": 4,
 "nbformat_minor": 2
}
